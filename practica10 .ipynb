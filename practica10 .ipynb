{
 "cells": [
  {
   "cell_type": "markdown",
   "id": "87104fd3-d220-4e49-9a8b-64707369c0c8",
   "metadata": {},
   "source": [
    "# **PRACTICA 10:**\n",
    "## **Perceptrón multicapa**\n",
    "---\n",
    "### Marta Jiménez Pacheco"
   ]
  },
  {
   "cell_type": "markdown",
   "id": "1d0cbfe2-f350-4ac9-9dff-2fb3697a49f0",
   "metadata": {},
   "source": [
    "A través del servidor “opneml.org” de DataSets para el Aprendizaje Automático, descargue el correspondiente a esta url:\n",
    "https://www.openml.org/d/40476\n",
    "usando la función específica para este servidor suministrada por\n",
    "sklearn de python.\n",
    "Efectuado esto, hay que experimentar con un MLP clasificador usando\n",
    "la validación cruzada habitual (k=10). Se considerará sólo una capa\n",
    "oculta, cuyo tamaño se hará variar de 10 en 10, entre 10 y 100 nodos.\n",
    "En cuanto a los parámetros del módulo del MLP suministrado por\n",
    "sklearn, se mantendrán el resto de los parámetros por defecto, a\n",
    "excepción del máximo de iteraciones que se fijará en 2000.\n",
    "\n"
   ]
  },
  {
   "cell_type": "code",
   "execution_count": 1,
   "id": "46cea28a-4958-49a0-849a-1245a791d82a",
   "metadata": {},
   "outputs": [],
   "source": [
    "from sklearn.datasets import fetch_openml\n",
    "from sklearn.preprocessing import MinMaxScaler\n",
    "from sklearn.model_selection import train_test_split, StratifiedKFold\n",
    "import time\n",
    "import pandas as pd\n",
    "import numpy as np"
   ]
  },
  {
   "cell_type": "code",
   "execution_count": 2,
   "id": "3c391795-f70d-4887-829e-e18cb645a996",
   "metadata": {},
   "outputs": [],
   "source": [
    "openml = fetch_openml(data_id=40476)\n",
    "\n",
    "scaler = MinMaxScaler()\n",
    "x = scaler.fit_transform(openml.data)\n",
    "y=openml.target"
   ]
  },
  {
   "cell_type": "markdown",
   "id": "cff714b3-c3a4-4abf-8e94-a971d6ec469a",
   "metadata": {},
   "source": [
    "### Validacion cruzada"
   ]
  },
  {
   "cell_type": "code",
   "execution_count": 3,
   "id": "29df7f06-bc7f-4826-a004-7e249da29dc8",
   "metadata": {},
   "outputs": [],
   "source": [
    "K = 10\n",
    "kfold = StratifiedKFold(n_splits=K)"
   ]
  },
  {
   "cell_type": "code",
   "execution_count": 4,
   "id": "5afb4d1a-5449-4c4f-beba-4518c7ccf3f4",
   "metadata": {},
   "outputs": [],
   "source": [
    "from sklearn.neural_network import MLPClassifier"
   ]
  },
  {
   "cell_type": "code",
   "execution_count": 5,
   "id": "5548be64-de1e-4481-bfd5-055d9f9c2096",
   "metadata": {},
   "outputs": [],
   "source": [
    "from sklearn.metrics import accuracy_score"
   ]
  },
  {
   "cell_type": "raw",
   "id": "744b3542-9291-4330-83e2-0c58c2edeaee",
   "metadata": {},
   "source": [
    "import numpy as np\n",
    "mediaVerifica = np.array([])\n",
    "mediaEntrena = np.array([])\n",
    "tiempoTotal = np.array([])"
   ]
  },
  {
   "cell_type": "code",
   "execution_count": 6,
   "id": "4500ca48-a689-41ad-a86d-f6c2815b658e",
   "metadata": {},
   "outputs": [],
   "source": [
    "media = pd.DataFrame (columns=['Nº ocultas','Entrena', 'Verifica', 'T.Ejecución'])"
   ]
  },
  {
   "cell_type": "code",
   "execution_count": 7,
   "id": "901db3d9-c87b-4e73-909e-b789d5a95fc0",
   "metadata": {},
   "outputs": [
    {
     "name": "stdout",
     "output_type": "stream",
     "text": [
      "    Entrena  Verifica        T.Ejecución\n",
      "0  0.725397  0.707143  1669223046.574816\n",
      "1  0.720635  0.696429  1669223048.154174\n",
      "2  0.720635  0.717857  1669223049.534764\n",
      "3  0.728571  0.685714   1669223052.36761\n",
      "4  0.721825  0.692857  1669223054.084505\n",
      "5  0.721429  0.703571  1669223055.685673\n",
      "6  0.721825  0.728571  1669223057.927913\n",
      "7  0.720238       0.7  1669223060.546382\n",
      "8  0.729365  0.682143  1669223062.930516\n",
      "9   0.71627     0.775  1669223065.039579\n",
      "\n",
      "Media (Verifica) =  0.7226190476190475 \n",
      "Media (Entrena) =  0.7089285714285715 \n",
      "Tiempo total =  16692230552.845932\n",
      "    Entrena  Verifica        T.Ejecución\n",
      "0  0.727381  0.696429  1669223066.979645\n",
      "1  0.728571  0.692857  1669223069.841982\n",
      "2  0.728175  0.696429    1669223072.5663\n",
      "3  0.726984  0.714286   1669223074.29107\n",
      "4     0.725       0.7  1669223076.057926\n",
      "5   0.72619     0.725  1669223079.026778\n",
      "6  0.722222  0.735714  1669223081.080986\n",
      "7  0.721032       0.7  1669223082.921806\n",
      "8  0.731349  0.685714  1669223084.688246\n",
      "9  0.724603     0.775  1669223087.391601\n",
      "\n",
      "Media (Verifica) =  0.7261507936507936 \n",
      "Media (Entrena) =  0.7121428571428572 \n",
      "Tiempo total =  16692230774.846342\n",
      "    Entrena  Verifica        T.Ejecución\n",
      "0  0.738095  0.696429  1669223089.800178\n",
      "1   0.73254  0.685714  1669223091.374073\n",
      "2  0.725397       0.7  1669223092.865938\n",
      "3  0.729762  0.703571  1669223094.524971\n",
      "4  0.727381  0.696429  1669223095.973448\n",
      "5  0.723016     0.725  1669223098.115146\n",
      "6  0.723413  0.732143  1669223100.215046\n",
      "7  0.727381  0.707143  1669223101.744933\n",
      "8  0.725397  0.689286  1669223102.888705\n",
      "9  0.723016  0.764286  1669223104.811431\n",
      "\n",
      "Media (Verifica) =  0.7275396825396825 \n",
      "Media (Entrena) =  0.71 \n",
      "Tiempo total =  16692230972.31387\n",
      "    Entrena  Verifica        T.Ejecución\n",
      "0  0.739286  0.689286  1669223107.097179\n",
      "1  0.738095     0.675  1669223109.676952\n",
      "2  0.730952  0.710714  1669223111.416885\n",
      "3  0.727778  0.717857  1669223113.140974\n",
      "4  0.725397  0.689286  1669223115.036422\n",
      "5   0.73254  0.739286  1669223117.993593\n",
      "6  0.724603  0.739286   1669223119.30296\n",
      "7  0.725794  0.703571  1669223120.921059\n",
      "8  0.734921  0.689286  1669223122.776954\n",
      "9     0.725  0.760714   1669223125.11061\n",
      "\n",
      "Media (Verifica) =  0.7304365079365078 \n",
      "Media (Entrena) =  0.7114285714285714 \n",
      "Tiempo total =  16692231162.473587\n",
      "    Entrena  Verifica        T.Ejecución\n",
      "0   0.73254  0.692857  1669223126.838348\n",
      "1  0.735714  0.685714  1669223129.296541\n",
      "2  0.736111  0.714286  1669223131.976085\n",
      "3  0.736905  0.696429   1669223134.82842\n",
      "4   0.73254  0.696429  1669223136.902195\n",
      "5  0.726984     0.725   1669223138.55035\n",
      "6  0.730159  0.739286   1669223140.78652\n",
      "7  0.732937  0.710714  1669223143.176445\n",
      "8  0.730159  0.696429  1669223144.251947\n",
      "9  0.727778     0.775  1669223146.772073\n",
      "\n",
      "Media (Verifica) =  0.7321825396825397 \n",
      "Media (Entrena) =  0.7132142857142856 \n",
      "Tiempo total =  16692231373.378925\n",
      "    Entrena  Verifica        T.Ejecución\n",
      "0  0.739286  0.692857  1669223149.259135\n",
      "1  0.731349  0.685714   1669223151.11391\n",
      "2   0.73373  0.696429  1669223153.459817\n",
      "3  0.735317       0.7  1669223155.467531\n",
      "4  0.725397  0.689286  1669223156.598872\n",
      "5  0.732143  0.735714  1669223159.071968\n",
      "6  0.726984  0.739286  1669223161.541036\n",
      "7  0.729365  0.703571  1669223163.072513\n",
      "8  0.735317  0.685714  1669223165.551926\n",
      "9  0.722619     0.775  1669223167.222676\n",
      "\n",
      "Media (Verifica) =  0.7311507936507936 \n",
      "Media (Entrena) =  0.7103571428571429 \n",
      "Tiempo total =  16692231582.359385\n",
      "    Entrena  Verifica        T.Ejecución\n",
      "0   0.73373  0.692857   1669223168.94636\n",
      "1  0.732143  0.689286  1669223170.469626\n",
      "2  0.731349  0.707143  1669223172.147691\n",
      "3  0.735317       0.7  1669223174.584071\n",
      "4  0.736905  0.692857  1669223176.889936\n",
      "5  0.731746  0.714286  1669223178.990127\n",
      "6  0.728968  0.742857  1669223181.740004\n",
      "7  0.736508       0.7  1669223184.214339\n",
      "8  0.737698  0.703571  1669223186.390051\n",
      "9   0.72619     0.775  1669223188.367461\n",
      "\n",
      "Media (Verifica) =  0.7330555555555556 \n",
      "Media (Entrena) =  0.7117857142857144 \n",
      "Tiempo total =  16692231782.739666\n",
      "    Entrena  Verifica        T.Ejecución\n",
      "0  0.728175  0.685714  1669223189.840785\n",
      "1  0.737698  0.667857   1669223191.69137\n",
      "2  0.731746  0.714286  1669223193.237803\n",
      "3  0.728968  0.689286   1669223194.63637\n",
      "4  0.729365  0.692857  1669223195.900013\n",
      "5  0.731746  0.717857  1669223198.178619\n",
      "6  0.731746  0.746429  1669223199.861418\n",
      "7  0.735714  0.703571  1669223202.770333\n",
      "8  0.740079  0.685714  1669223205.077116\n",
      "9  0.728968  0.771429  1669223207.707394\n",
      "\n",
      "Media (Verifica) =  0.7324206349206348 \n",
      "Media (Entrena) =  0.7075 \n",
      "Tiempo total =  16692231978.90122\n",
      "    Entrena  Verifica        T.Ejecución\n",
      "0  0.734524  0.696429  1669223209.223016\n",
      "1  0.737302  0.682143  1669223211.322412\n",
      "2  0.734127  0.707143  1669223213.755533\n",
      "3  0.735714  0.703571  1669223216.214486\n",
      "4  0.733333  0.689286  1669223218.901926\n",
      "5  0.732143  0.721429  1669223221.119217\n",
      "6  0.729365  0.742857  1669223223.615526\n",
      "7  0.732937  0.714286  1669223225.346668\n",
      "8  0.734127  0.696429  1669223227.268437\n",
      "9  0.729762  0.771429  1669223229.075912\n",
      "\n",
      "Media (Verifica) =  0.7333333333333333 \n",
      "Media (Entrena) =  0.7125 \n",
      "Tiempo total =  16692232195.843132\n",
      "    Entrena  Verifica        T.Ejecución\n",
      "0  0.736905  0.685714  1669223231.650672\n",
      "1  0.736508     0.675  1669223233.823879\n",
      "2  0.735317  0.710714  1669223236.736118\n",
      "3  0.734127  0.707143  1669223238.561828\n",
      "4  0.736508  0.682143  1669223241.512828\n",
      "5  0.733333  0.742857  1669223243.437418\n",
      "6  0.725794  0.735714  1669223245.445317\n",
      "7  0.735714  0.703571  1669223248.595083\n",
      "8  0.734921  0.707143   1669223250.97098\n",
      "9  0.722222  0.771429  1669223252.594907\n",
      "\n",
      "Media (Verifica) =  0.7331349206349207 \n",
      "Media (Entrena) =  0.7121428571428572 \n",
      "Tiempo total =  16692232423.32903\n"
     ]
    }
   ],
   "source": [
    "i=0\n",
    "for n in range(10,110,10):\n",
    "    mlp = MLPClassifier(hidden_layer_sizes=n,max_iter=1000)\n",
    "    data = pd.DataFrame (columns=['Entrena', 'Verifica', 'T.Ejecución'])\n",
    "    k = 0\n",
    "    for train_index, test_index in kfold.split(x,y):\n",
    "        tiempoInicial = time.time()\n",
    "        mlp.fit(x[train_index], y[train_index])\n",
    "\n",
    "        prediccionTrain = mlp.predict(x[train_index]) #conjunto de entrenamiento es mayor, por lo que es \n",
    "        prediccionTest = mlp.predict(x[test_index])\n",
    "\n",
    "        entrena = accuracy_score(y[train_index],prediccionTrain)\n",
    "        verifica = accuracy_score(y[test_index],prediccionTest)\n",
    "        tiempoEjecucion = time.time()\n",
    "        data.loc[k,:] = [entrena,verifica,tiempoEjecucion]   #INSERTAR FILA\n",
    "        k+=1\n",
    "    print(data)\n",
    "    \n",
    "    media.loc[i,:] = [n,data.mean().values[0],data.mean().values[1],data.sum().values[2]]\n",
    "    i+=1\n",
    "    \n",
    "    print (\"\\nMedia (Verifica) = \",data.mean().values[0],  #hacer media de un dataframe entero\n",
    "           \"\\nMedia (Entrena) = \",data.mean().values[1],\n",
    "           \"\\nTiempo total = \", data.sum().values[2])"
   ]
  },
  {
   "cell_type": "code",
   "execution_count": 8,
   "id": "269b3482-9095-4ae7-948b-5a5b09964ba9",
   "metadata": {},
   "outputs": [
    {
     "name": "stdout",
     "output_type": "stream",
     "text": [
      "  Nº ocultas   Entrena  Verifica         T.Ejecución\n",
      "0         10  0.722619  0.708929  16692230552.845932\n",
      "1         20  0.726151  0.712143  16692230774.846342\n",
      "2         30   0.72754      0.71  16692230972.313869\n",
      "3         40  0.730437  0.711429  16692231162.473587\n",
      "4         50  0.732183  0.713214  16692231373.378925\n",
      "5         60  0.731151  0.710357  16692231582.359385\n",
      "6         70  0.733056  0.711786  16692231782.739666\n",
      "7         80  0.732421    0.7075   16692231978.90122\n",
      "8         90  0.733333    0.7125  16692232195.843132\n",
      "9        100  0.733135  0.712143  16692232423.329029\n"
     ]
    }
   ],
   "source": [
    "print(media)"
   ]
  },
  {
   "cell_type": "code",
   "execution_count": 9,
   "id": "6efd5f66-7cd6-45e0-9e3e-d737aeb4345f",
   "metadata": {},
   "outputs": [
    {
     "name": "stdout",
     "output_type": "stream",
     "text": [
      "1.431547619047619\n",
      "\n",
      "Numero de capas ocultas con mejor resultado:  10\n"
     ]
    }
   ],
   "source": [
    "#CAPA QUE MEJOR RESULTADO A DADO\n",
    "media['suma']=media['Entrena']+media['Verifica']\n",
    "\n",
    "min = media['suma'].min()\n",
    "print(min)\n",
    "indice = media.loc[media['suma']==min]\n",
    "print(\"\\nNumero de capas ocultas con mejor resultado: \",indice.iloc[0,0])"
   ]
  },
  {
   "cell_type": "code",
   "execution_count": 10,
   "id": "ef026f9b-74dc-4a59-8c08-8a0c522b80a1",
   "metadata": {},
   "outputs": [
    {
     "name": "stdout",
     "output_type": "stream",
     "text": [
      "\n",
      "Numero de capas ocultas con menor tiempo:  10\n"
     ]
    }
   ],
   "source": [
    "#CAPA QUE MENOR TIEMO A REQUERIDO\n",
    "min2 = media['T.Ejecución'].min()\n",
    "indice2 = media.loc[media['T.Ejecución']==min2]\n",
    "print(\"\\nNumero de capas ocultas con menor tiempo: \",indice2.iloc[0,0])"
   ]
  }
 ],
 "metadata": {
  "kernelspec": {
   "display_name": "Python 3 (ipykernel)",
   "language": "python",
   "name": "python3"
  },
  "language_info": {
   "codemirror_mode": {
    "name": "ipython",
    "version": 3
   },
   "file_extension": ".py",
   "mimetype": "text/x-python",
   "name": "python",
   "nbconvert_exporter": "python",
   "pygments_lexer": "ipython3",
   "version": "3.9.7"
  }
 },
 "nbformat": 4,
 "nbformat_minor": 5
}
