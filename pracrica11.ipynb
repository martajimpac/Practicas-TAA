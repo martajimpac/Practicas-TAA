{
 "cells": [
  {
   "cell_type": "markdown",
   "metadata": {},
   "source": [
    "# **PRACTICA 11:**\n",
    "## **Redes Neuronales de Funciones de Base Radial (RBF) y Máquinas de Vectores Soporte (SVM)**\n",
    "---\n",
    "### Marta Jiménez Pacheco"
   ]
  },
  {
   "cell_type": "markdown",
   "metadata": {},
   "source": [
    "Con el conjunto de datos de “breast_cancer” que incorpora “sklearn”,  construya una RBF, donde la capa de salida es sustituida por una máquina  de Vectores Soporte de función núcleo polinómica. Los experimentos se  harán con Validación Cruzada de 10 carpetas.\n",
    "La primera incógnita que surge, es el número de neuronas de la capa oculta. Para ello, se ha de experimentar variando este parámetro entre 2 y 30. En  cada prueba, se etiquetarán los clúster aplicando el criterio de la moda (ver  ejemplo de Kmeans con IRIS en el moodle de la asignatura) y evaluando los  aciertos con las muestras de test con las diferentes carpetas de test que  van surgiendo. No se olvide de hacer la media de esta tasa de aciertos,  porque es lo que habrá que representar en función del número de clústeres  y hallar la máxima tasa de aciertos, para obtener, así, el número de  clústeres óptimo."
   ]
  },
  {
   "cell_type": "markdown",
   "metadata": {},
   "source": [
    "Importamos los datos y las librerias necesarios."
   ]
  },
  {
   "cell_type": "code",
   "execution_count": 1,
   "metadata": {},
   "outputs": [],
   "source": [
    "import numpy as np\n",
    "import pandas as pd\n",
    "from sklearn.preprocessing import MinMaxScaler\n",
    "from sklearn.model_selection import train_test_split\n",
    "from sklearn.datasets import load_breast_cancer\n",
    "from sklearn.metrics import accuracy_score\n",
    "from sklearn.model_selection import KFold\n",
    "from sklearn.metrics import accuracy_score\n",
    "\n",
    "#kmedias - RBF\n",
    "from sklearn.cluster import KMeans\n",
    "from scipy.stats import mode\n",
    "#una vez que sabemos cuantos cluster usar y hemos entrenado al modelo calculamos\n",
    "#la distancia euclidea\n",
    "from sklearn.metrics.pairwise import euclidean_distances\n",
    "\n",
    "#Support Vector Machine\n",
    "from sklearn import svm\n",
    "from sklearn.svm import LinearSVC,SVC"
   ]
  },
  {
   "cell_type": "code",
   "execution_count": 2,
   "metadata": {},
   "outputs": [
    {
     "name": "stdout",
     "output_type": "stream",
     "text": [
      "2\n"
     ]
    }
   ],
   "source": [
    "cancer = load_breast_cancer()\n",
    "Y = cancer.target\n",
    "X = MinMaxScaler().fit_transform(cancer.data)\n",
    "X.shape, Y.shape\n",
    "min_clusters = np.unique(Y).shape[0]\n",
    "print(min_clusters)"
   ]
  },
  {
   "cell_type": "code",
   "execution_count": 3,
   "metadata": {},
   "outputs": [
    {
     "data": {
      "text/plain": [
       "(569, 31)"
      ]
     },
     "execution_count": 3,
     "metadata": {},
     "output_type": "execute_result"
    }
   ],
   "source": [
    "#Visualizar los datos en una tabla\n",
    "tabla=pd.DataFrame(X,columns=cancer.feature_names)\n",
    "tabla['Class']=Y\n",
    "tabla.shape"
   ]
  },
  {
   "cell_type": "markdown",
   "metadata": {},
   "source": [
    "Vamos a realizar una validacion cruzada  de 10 folds para elegir el número de neuronas. "
   ]
  },
  {
   "cell_type": "code",
   "execution_count": 4,
   "metadata": {},
   "outputs": [],
   "source": [
    "min_clusters = 2 #min_clusters = np.unique(Y).shape[0] # == 2\n",
    "max_clusters = 30\n",
    "\n",
    "tabla = pd.DataFrame(columns=['n_clusters', 'aciertos_train', 'aciertos_test'])\n",
    "K=10\n",
    "kf = KFold(n_splits=K)"
   ]
  },
  {
   "cell_type": "markdown",
   "metadata": {},
   "source": [
    "### Probamos con diferente numero de clusters y predecimos con la moda para ver cual tiene mayor porcentaje de aciertos"
   ]
  },
  {
   "cell_type": "code",
   "execution_count": 5,
   "metadata": {},
   "outputs": [
    {
     "data": {
      "text/html": [
       "<div>\n",
       "<style scoped>\n",
       "    .dataframe tbody tr th:only-of-type {\n",
       "        vertical-align: middle;\n",
       "    }\n",
       "\n",
       "    .dataframe tbody tr th {\n",
       "        vertical-align: top;\n",
       "    }\n",
       "\n",
       "    .dataframe thead th {\n",
       "        text-align: right;\n",
       "    }\n",
       "</style>\n",
       "<table border=\"1\" class=\"dataframe\">\n",
       "  <thead>\n",
       "    <tr style=\"text-align: right;\">\n",
       "      <th></th>\n",
       "      <th>n_clusters</th>\n",
       "      <th>aciertos_train</th>\n",
       "      <th>aciertos_test</th>\n",
       "    </tr>\n",
       "  </thead>\n",
       "  <tbody>\n",
       "    <tr>\n",
       "      <th>0</th>\n",
       "      <td>2.0</td>\n",
       "      <td>0.927750</td>\n",
       "      <td>0.922744</td>\n",
       "    </tr>\n",
       "    <tr>\n",
       "      <th>1</th>\n",
       "      <td>3.0</td>\n",
       "      <td>0.901192</td>\n",
       "      <td>0.903415</td>\n",
       "    </tr>\n",
       "    <tr>\n",
       "      <th>2</th>\n",
       "      <td>4.0</td>\n",
       "      <td>0.906657</td>\n",
       "      <td>0.889380</td>\n",
       "    </tr>\n",
       "    <tr>\n",
       "      <th>3</th>\n",
       "      <td>5.0</td>\n",
       "      <td>0.923845</td>\n",
       "      <td>0.922713</td>\n",
       "    </tr>\n",
       "    <tr>\n",
       "      <th>4</th>\n",
       "      <td>6.0</td>\n",
       "      <td>0.895142</td>\n",
       "      <td>0.882362</td>\n",
       "    </tr>\n",
       "    <tr>\n",
       "      <th>5</th>\n",
       "      <td>7.0</td>\n",
       "      <td>0.907832</td>\n",
       "      <td>0.912187</td>\n",
       "    </tr>\n",
       "    <tr>\n",
       "      <th>6</th>\n",
       "      <td>8.0</td>\n",
       "      <td>0.918177</td>\n",
       "      <td>0.889348</td>\n",
       "    </tr>\n",
       "    <tr>\n",
       "      <th>7</th>\n",
       "      <td>9.0</td>\n",
       "      <td>0.924236</td>\n",
       "      <td>0.903383</td>\n",
       "    </tr>\n",
       "    <tr>\n",
       "      <th>8</th>\n",
       "      <td>10.0</td>\n",
       "      <td>0.930487</td>\n",
       "      <td>0.931485</td>\n",
       "    </tr>\n",
       "    <tr>\n",
       "      <th>9</th>\n",
       "      <td>11.0</td>\n",
       "      <td>0.934199</td>\n",
       "      <td>0.913784</td>\n",
       "    </tr>\n",
       "    <tr>\n",
       "      <th>10</th>\n",
       "      <td>12.0</td>\n",
       "      <td>0.944932</td>\n",
       "      <td>0.931485</td>\n",
       "    </tr>\n",
       "    <tr>\n",
       "      <th>11</th>\n",
       "      <td>13.0</td>\n",
       "      <td>0.940640</td>\n",
       "      <td>0.945551</td>\n",
       "    </tr>\n",
       "    <tr>\n",
       "      <th>12</th>\n",
       "      <td>14.0</td>\n",
       "      <td>0.931652</td>\n",
       "      <td>0.917450</td>\n",
       "    </tr>\n",
       "    <tr>\n",
       "      <th>13</th>\n",
       "      <td>15.0</td>\n",
       "      <td>0.942590</td>\n",
       "      <td>0.913784</td>\n",
       "    </tr>\n",
       "    <tr>\n",
       "      <th>14</th>\n",
       "      <td>16.0</td>\n",
       "      <td>0.945908</td>\n",
       "      <td>0.942043</td>\n",
       "    </tr>\n",
       "    <tr>\n",
       "      <th>15</th>\n",
       "      <td>17.0</td>\n",
       "      <td>0.945712</td>\n",
       "      <td>0.947274</td>\n",
       "    </tr>\n",
       "    <tr>\n",
       "      <th>16</th>\n",
       "      <td>18.0</td>\n",
       "      <td>0.941417</td>\n",
       "      <td>0.950815</td>\n",
       "    </tr>\n",
       "    <tr>\n",
       "      <th>17</th>\n",
       "      <td>19.0</td>\n",
       "      <td>0.947276</td>\n",
       "      <td>0.957863</td>\n",
       "    </tr>\n",
       "    <tr>\n",
       "      <th>18</th>\n",
       "      <td>20.0</td>\n",
       "      <td>0.953328</td>\n",
       "      <td>0.950815</td>\n",
       "    </tr>\n",
       "    <tr>\n",
       "      <th>19</th>\n",
       "      <td>21.0</td>\n",
       "      <td>0.949033</td>\n",
       "      <td>0.940257</td>\n",
       "    </tr>\n",
       "    <tr>\n",
       "      <th>20</th>\n",
       "      <td>22.0</td>\n",
       "      <td>0.950595</td>\n",
       "      <td>0.943734</td>\n",
       "    </tr>\n",
       "    <tr>\n",
       "      <th>21</th>\n",
       "      <td>23.0</td>\n",
       "      <td>0.952351</td>\n",
       "      <td>0.956046</td>\n",
       "    </tr>\n",
       "    <tr>\n",
       "      <th>22</th>\n",
       "      <td>24.0</td>\n",
       "      <td>0.953524</td>\n",
       "      <td>0.950752</td>\n",
       "    </tr>\n",
       "    <tr>\n",
       "      <th>23</th>\n",
       "      <td>25.0</td>\n",
       "      <td>0.949618</td>\n",
       "      <td>0.950752</td>\n",
       "    </tr>\n",
       "    <tr>\n",
       "      <th>24</th>\n",
       "      <td>26.0</td>\n",
       "      <td>0.944735</td>\n",
       "      <td>0.950752</td>\n",
       "    </tr>\n",
       "    <tr>\n",
       "      <th>25</th>\n",
       "      <td>27.0</td>\n",
       "      <td>0.948642</td>\n",
       "      <td>0.950877</td>\n",
       "    </tr>\n",
       "    <tr>\n",
       "      <th>26</th>\n",
       "      <td>28.0</td>\n",
       "      <td>0.954500</td>\n",
       "      <td>0.947274</td>\n",
       "    </tr>\n",
       "    <tr>\n",
       "      <th>27</th>\n",
       "      <td>29.0</td>\n",
       "      <td>0.954696</td>\n",
       "      <td>0.956046</td>\n",
       "    </tr>\n",
       "    <tr>\n",
       "      <th>28</th>\n",
       "      <td>30.0</td>\n",
       "      <td>0.950206</td>\n",
       "      <td>0.954292</td>\n",
       "    </tr>\n",
       "  </tbody>\n",
       "</table>\n",
       "</div>"
      ],
      "text/plain": [
       "    n_clusters  aciertos_train  aciertos_test\n",
       "0          2.0        0.927750       0.922744\n",
       "1          3.0        0.901192       0.903415\n",
       "2          4.0        0.906657       0.889380\n",
       "3          5.0        0.923845       0.922713\n",
       "4          6.0        0.895142       0.882362\n",
       "5          7.0        0.907832       0.912187\n",
       "6          8.0        0.918177       0.889348\n",
       "7          9.0        0.924236       0.903383\n",
       "8         10.0        0.930487       0.931485\n",
       "9         11.0        0.934199       0.913784\n",
       "10        12.0        0.944932       0.931485\n",
       "11        13.0        0.940640       0.945551\n",
       "12        14.0        0.931652       0.917450\n",
       "13        15.0        0.942590       0.913784\n",
       "14        16.0        0.945908       0.942043\n",
       "15        17.0        0.945712       0.947274\n",
       "16        18.0        0.941417       0.950815\n",
       "17        19.0        0.947276       0.957863\n",
       "18        20.0        0.953328       0.950815\n",
       "19        21.0        0.949033       0.940257\n",
       "20        22.0        0.950595       0.943734\n",
       "21        23.0        0.952351       0.956046\n",
       "22        24.0        0.953524       0.950752\n",
       "23        25.0        0.949618       0.950752\n",
       "24        26.0        0.944735       0.950752\n",
       "25        27.0        0.948642       0.950877\n",
       "26        28.0        0.954500       0.947274\n",
       "27        29.0        0.954696       0.956046\n",
       "28        30.0        0.950206       0.954292"
      ]
     },
     "execution_count": 5,
     "metadata": {},
     "output_type": "execute_result"
    }
   ],
   "source": [
    "f=0\n",
    "\n",
    "for c in range(2,max_clusters+1):#el numero de cluster variara de 2 a 30 \n",
    "    aciertos_train = np.array([])\n",
    "    aciertos_test = np.array([])\n",
    "    \n",
    "    for train_index, test_index in kf.split(X,Y):\n",
    "\n",
    "        #hacemos las k-medias con el numero de cluster de cada iteracion\n",
    "        kmedias = KMeans(n_clusters=c, random_state=0)\n",
    "        \n",
    "        # Cogemos nuestras muestras de test y entrenamiento\n",
    "        X_train, X_test = X[train_index], X[test_index]\n",
    "        Y_train, Y_test = Y[train_index], Y[test_index]\n",
    "        \n",
    "        # Ajustamos las k-medias\n",
    "        kmedias.fit(X_train)\n",
    "        \n",
    "        # Usamos el criterio de la moda\n",
    "        moda = -1 * np.ones(c, dtype='int') \n",
    "        for i in range(c):\n",
    "            moda[i] = mode(Y_train[np.argwhere(kmedias.labels_ == i)])[0].astype(int)\n",
    "            #cogemos los indices de la clase que coinciden con el numero de clusters\n",
    "        \n",
    "        y_test_predict = moda[kmedias.predict(X_test)]\n",
    "        y_train_predict = moda[kmedias.predict(X_train)]\n",
    "        aciertos_train = np.append(aciertos_train, accuracy_score(Y_train, y_train_predict))\n",
    "        aciertos_test = np.append(aciertos_test, accuracy_score(Y_test, y_test_predict))\n",
    "    \n",
    "    tabla.loc[f] = [c, aciertos_train.mean() ,  aciertos_test.mean()]\n",
    "    f+=1\n",
    "\n",
    "tabla"
   ]
  },
  {
   "cell_type": "markdown",
   "metadata": {},
   "source": [
    "Hacemos un grafico de las tasas de acierto de los numero de cluster."
   ]
  },
  {
   "cell_type": "code",
   "execution_count": 6,
   "metadata": {},
   "outputs": [
    {
     "data": {
      "image/png": "[encoded data removed]",
      "text/plain": [
       "<Figure size 432x288 with 1 Axes>"
      ]
     },
     "metadata": {
      "needs_background": "light"
     },
     "output_type": "display_data"
    }
   ],
   "source": [
    "import matplotlib.pyplot as plt\n",
    "\n",
    "n = np.arange(2,31,dtype='int')  \n",
    "                                  \n",
    "plt.plot(n,tabla.aciertos_test,color='blue',label='test') #label es para legend\n",
    "plt.plot(n,tabla.aciertos_train,color='orange',label='entrena')\n",
    "plt.legend()\n",
    "plt.title(\"Grafico: K-medias con Validación Cruzada (K=10)\")\n",
    "plt.xlabel(\"Nº clusters\")\n",
    "plt.ylabel(\"Tasa aciertos\")\n",
    "plt.grid()\n",
    "plt.show()"
   ]
  },
  {
   "cell_type": "markdown",
   "metadata": {},
   "source": [
    "Obtengo el maximo de la tasa de aciertos y veo  que numero de cluster son necesarios "
   ]
  },
  {
   "cell_type": "code",
   "execution_count": 7,
   "metadata": {},
   "outputs": [
    {
     "name": "stdout",
     "output_type": "stream",
     "text": [
      "Valor maximo de aciertos es  0.9578634085213033 \n",
      "Numero de neuronas en la capa oculta = [[19]]\n"
     ]
    }
   ],
   "source": [
    "aciertos_test=tabla.aciertos_test.to_numpy()\n",
    "n_optimo=aciertos_test.max()\n",
    "n_neuronas=np.argwhere(aciertos_test==n_optimo) + 2\n",
    "\n",
    "print(\"Valor maximo de aciertos es \",n_optimo, \"\\nNumero de neuronas en la capa oculta =\",n_neuronas)\n"
   ]
  },
  {
   "cell_type": "markdown",
   "metadata": {},
   "source": [
    "### **Entreno la red RBF y calculo la salida de la capa oculta para usarla como entrada de SVM**\n",
    "  \n",
    " Lo primero que debemos realizar es separar la muestra en entrenamiento y test"
   ]
  },
  {
   "cell_type": "code",
   "execution_count": 8,
   "metadata": {},
   "outputs": [],
   "source": [
    "X_train, X_test, Y_train, Y_test = train_test_split(X, Y, test_size=1/3, stratify=Y, random_state=0)"
   ]
  },
  {
   "cell_type": "code",
   "execution_count": 9,
   "metadata": {},
   "outputs": [
    {
     "data": {
      "text/plain": [
       "((379, 30), (190, 30), (379,), (190,))"
      ]
     },
     "execution_count": 9,
     "metadata": {},
     "output_type": "execute_result"
    }
   ],
   "source": [
    "X_train.shape,X_test.shape, Y_train.shape, Y_test.shape"
   ]
  },
  {
   "cell_type": "code",
   "execution_count": 10,
   "metadata": {},
   "outputs": [
    {
     "ename": "TypeError",
     "evalue": "only integer scalar arrays can be converted to a scalar index",
     "output_type": "error",
     "traceback": [
      "\u001b[0;31m---------------------------------------------------------------------------\u001b[0m",
      "\u001b[0;31mTypeError\u001b[0m                                 Traceback (most recent call last)",
      "\u001b[0;32m/tmp/ipykernel_33914/1088328621.py\u001b[0m in \u001b[0;36m<module>\u001b[0;34m\u001b[0m\n\u001b[1;32m      1\u001b[0m \u001b[0;31m#ahora ya sabemos el número optimo de clusters que tenemos que usar\u001b[0m\u001b[0;34m\u001b[0m\u001b[0;34m\u001b[0m\u001b[0m\n\u001b[0;32m----> 2\u001b[0;31m \u001b[0mkmedias\u001b[0m \u001b[0;34m=\u001b[0m \u001b[0mKMeans\u001b[0m\u001b[0;34m(\u001b[0m\u001b[0mn_clusters\u001b[0m\u001b[0;34m=\u001b[0m\u001b[0mn_neuronas\u001b[0m\u001b[0;34m)\u001b[0m\u001b[0;34m.\u001b[0m\u001b[0mfit\u001b[0m\u001b[0;34m(\u001b[0m\u001b[0mX_train\u001b[0m\u001b[0;34m)\u001b[0m\u001b[0;34m\u001b[0m\u001b[0;34m\u001b[0m\u001b[0m\n\u001b[0m\u001b[1;32m      3\u001b[0m \u001b[0mcentros\u001b[0m \u001b[0;34m=\u001b[0m \u001b[0mkmedias\u001b[0m\u001b[0;34m.\u001b[0m\u001b[0mcluster_centers_\u001b[0m\u001b[0;34m\u001b[0m\u001b[0;34m\u001b[0m\u001b[0m\n\u001b[1;32m      4\u001b[0m \u001b[0;34m\u001b[0m\u001b[0m\n\u001b[1;32m      5\u001b[0m \u001b[0mdistancias\u001b[0m \u001b[0;34m=\u001b[0m \u001b[0meuclidean_distances\u001b[0m\u001b[0;34m(\u001b[0m\u001b[0mcentros\u001b[0m\u001b[0;34m)\u001b[0m\u001b[0;34m\u001b[0m\u001b[0;34m\u001b[0m\u001b[0m\n",
      "\u001b[0;32m~/anaconda3/lib/python3.9/site-packages/sklearn/cluster/_kmeans.py\u001b[0m in \u001b[0;36mfit\u001b[0;34m(self, X, y, sample_weight)\u001b[0m\n\u001b[1;32m   1014\u001b[0m         \u001b[0;32mfor\u001b[0m \u001b[0mi\u001b[0m \u001b[0;32min\u001b[0m \u001b[0mrange\u001b[0m\u001b[0;34m(\u001b[0m\u001b[0mself\u001b[0m\u001b[0;34m.\u001b[0m\u001b[0m_n_init\u001b[0m\u001b[0;34m)\u001b[0m\u001b[0;34m:\u001b[0m\u001b[0;34m\u001b[0m\u001b[0;34m\u001b[0m\u001b[0m\n\u001b[1;32m   1015\u001b[0m             \u001b[0;31m# Initialize centers\u001b[0m\u001b[0;34m\u001b[0m\u001b[0;34m\u001b[0m\u001b[0m\n\u001b[0;32m-> 1016\u001b[0;31m             centers_init = self._init_centroids(\n\u001b[0m\u001b[1;32m   1017\u001b[0m                 \u001b[0mX\u001b[0m\u001b[0;34m,\u001b[0m \u001b[0mx_squared_norms\u001b[0m\u001b[0;34m=\u001b[0m\u001b[0mx_squared_norms\u001b[0m\u001b[0;34m,\u001b[0m \u001b[0minit\u001b[0m\u001b[0;34m=\u001b[0m\u001b[0minit\u001b[0m\u001b[0;34m,\u001b[0m\u001b[0;34m\u001b[0m\u001b[0;34m\u001b[0m\u001b[0m\n\u001b[1;32m   1018\u001b[0m                 random_state=random_state)\n",
      "\u001b[0;32m~/anaconda3/lib/python3.9/site-packages/sklearn/cluster/_kmeans.py\u001b[0m in \u001b[0;36m_init_centroids\u001b[0;34m(self, X, x_squared_norms, init, random_state, init_size)\u001b[0m\n\u001b[1;32m    932\u001b[0m \u001b[0;34m\u001b[0m\u001b[0m\n\u001b[1;32m    933\u001b[0m         \u001b[0;32mif\u001b[0m \u001b[0misinstance\u001b[0m\u001b[0;34m(\u001b[0m\u001b[0minit\u001b[0m\u001b[0;34m,\u001b[0m \u001b[0mstr\u001b[0m\u001b[0;34m)\u001b[0m \u001b[0;32mand\u001b[0m \u001b[0minit\u001b[0m \u001b[0;34m==\u001b[0m \u001b[0;34m'k-means++'\u001b[0m\u001b[0;34m:\u001b[0m\u001b[0;34m\u001b[0m\u001b[0;34m\u001b[0m\u001b[0m\n\u001b[0;32m--> 934\u001b[0;31m             centers, _ = _kmeans_plusplus(X, n_clusters,\n\u001b[0m\u001b[1;32m    935\u001b[0m                                           \u001b[0mrandom_state\u001b[0m\u001b[0;34m=\u001b[0m\u001b[0mrandom_state\u001b[0m\u001b[0;34m,\u001b[0m\u001b[0;34m\u001b[0m\u001b[0;34m\u001b[0m\u001b[0m\n\u001b[1;32m    936\u001b[0m                                           x_squared_norms=x_squared_norms)\n",
      "\u001b[0;32m~/anaconda3/lib/python3.9/site-packages/sklearn/cluster/_kmeans.py\u001b[0m in \u001b[0;36m_kmeans_plusplus\u001b[0;34m(X, n_clusters, x_squared_norms, random_state, n_local_trials)\u001b[0m\n\u001b[1;32m     85\u001b[0m     \u001b[0mn_samples\u001b[0m\u001b[0;34m,\u001b[0m \u001b[0mn_features\u001b[0m \u001b[0;34m=\u001b[0m \u001b[0mX\u001b[0m\u001b[0;34m.\u001b[0m\u001b[0mshape\u001b[0m\u001b[0;34m\u001b[0m\u001b[0;34m\u001b[0m\u001b[0m\n\u001b[1;32m     86\u001b[0m \u001b[0;34m\u001b[0m\u001b[0m\n\u001b[0;32m---> 87\u001b[0;31m     \u001b[0mcenters\u001b[0m \u001b[0;34m=\u001b[0m \u001b[0mnp\u001b[0m\u001b[0;34m.\u001b[0m\u001b[0mempty\u001b[0m\u001b[0;34m(\u001b[0m\u001b[0;34m(\u001b[0m\u001b[0mn_clusters\u001b[0m\u001b[0;34m,\u001b[0m \u001b[0mn_features\u001b[0m\u001b[0;34m)\u001b[0m\u001b[0;34m,\u001b[0m \u001b[0mdtype\u001b[0m\u001b[0;34m=\u001b[0m\u001b[0mX\u001b[0m\u001b[0;34m.\u001b[0m\u001b[0mdtype\u001b[0m\u001b[0;34m)\u001b[0m\u001b[0;34m\u001b[0m\u001b[0;34m\u001b[0m\u001b[0m\n\u001b[0m\u001b[1;32m     88\u001b[0m \u001b[0;34m\u001b[0m\u001b[0m\n\u001b[1;32m     89\u001b[0m     \u001b[0;31m# Set the number of local seeding trials if none is given\u001b[0m\u001b[0;34m\u001b[0m\u001b[0;34m\u001b[0m\u001b[0m\n",
      "\u001b[0;31mTypeError\u001b[0m: only integer scalar arrays can be converted to a scalar index"
     ]
    }
   ],
   "source": [
    "#ahora ya sabemos el número optimo de clusters que tenemos que usar\n",
    "kmedias = KMeans(n_clusters=n_neuronas).fit(X_train)\n",
    "centros = kmedias.cluster_centers_\n",
    "\n",
    "distancias = euclidean_distances(centros)\n",
    "print(distancias.shape)\n",
    "print(centros.shape)\n",
    "sigma = np.sum(distancias, axis=0)/(centros.shape[0]-1)"
   ]
  },
  {
   "cell_type": "markdown",
   "metadata": {},
   "source": [
    "###### Salida capa OCULTA datos entrenamiento"
   ]
  },
  {
   "cell_type": "code",
   "execution_count": null,
   "metadata": {},
   "outputs": [],
   "source": [
    "X_mlp_train = np.zeros((X_train.shape[0], centros.shape[0]), dtype=float)\n",
    "for i in range(X_train.shape[0]):\n",
    "    for j in range(centros.shape[0]):\n",
    "        X_mlp_train[i][j]=np.exp(-sum((X_train[i]-centros[j])**2)/(2.0*(sigma[j]**2)))"
   ]
  },
  {
   "cell_type": "markdown",
   "metadata": {
    "tags": []
   },
   "source": [
    "###### Salida capa OCULTA para los test"
   ]
  },
  {
   "cell_type": "code",
   "execution_count": null,
   "metadata": {},
   "outputs": [],
   "source": [
    "X_mlp_test = np.zeros((X_test.shape[0], centros.shape[0]), dtype=float)\n",
    "for i in range(X_test.shape[0]):\n",
    "    for j in range(centros.shape[0]):\n",
    "        X_mlp_test[i][j] = np.exp(-sum((X_test[i]-centros[j])**2)/(2.0*(sigma[j]**2)))"
   ]
  },
  {
   "cell_type": "code",
   "execution_count": null,
   "metadata": {},
   "outputs": [],
   "source": [
    "X_mlp_test = np.zeros((X_test.shape[0], centros.shape[0]), dtype=float)\n",
    "for i in range(X_test.shape[0]):\n",
    "    for j in range(centros.shape[0]):\n",
    "        X_mlp_test[i][j] = np.exp(-sum((X_test[i]-centros[j])**2)/(2.0*(sigma[j]**2)))"
   ]
  },
  {
   "cell_type": "markdown",
   "metadata": {},
   "source": [
    "###### Ajuste de la capa de salida y predicion"
   ]
  },
  {
   "cell_type": "markdown",
   "metadata": {},
   "source": [
    "## Creo el suport vector machine polinomico "
   ]
  },
  {
   "cell_type": "markdown",
   "metadata": {},
   "source": [
    "#### Realizo el SVM con las predicciones de salidas del MLP"
   ]
  },
  {
   "cell_type": "code",
   "execution_count": null,
   "metadata": {},
   "outputs": [],
   "source": [
    "#el clasificador \n",
    "clfSVC = SVC()\n",
    "clfSVC = SVC(kernel='poly',degree=3) #gamma scale (por defecto)\n",
    "clfSVC"
   ]
  },
  {
   "cell_type": "code",
   "execution_count": null,
   "metadata": {},
   "outputs": [],
   "source": [
    "#ajuste\n",
    "clfSVC.fit(X_mlp_train,Y_train)\n",
    "#prediccion  de clase segun el super vector machine \n",
    "predi=clfSVC.predict(X_mlp_test)\n",
    "#calculo de las tasa de acierto\n",
    "tasa = (predi == Y_test).mean()\n",
    "print(\"SVM , aciertos para train = \", tasa,\"\\n\")"
   ]
  },
  {
   "cell_type": "markdown",
   "metadata": {},
   "source": [
    " Si aplicara el procedimiento super vector machine sobre los datos directamente (unicamente tras el normalizado y division en train y test)  para ver como separaria . Ver cuanto acertaria el metodo."
   ]
  },
  {
   "cell_type": "code",
   "execution_count": null,
   "metadata": {},
   "outputs": [],
   "source": [
    "#ajuste que , luego habra que modificar para el que sea \n",
    "clfSVC.fit(X_train,Y_train)\n",
    "#predicciones \n",
    "predi=clfSVC.predict(X_test)\n",
    "#calculo de la tasa de acierto\n",
    "tasa= (predi == Y_test).mean() \n",
    "print(\"Aciertos para los datos  reales\",tasa)"
   ]
  }
 ],
 "metadata": {
  "kernelspec": {
   "display_name": "Python 3 (ipykernel)",
   "language": "python",
   "name": "python3"
  },
  "language_info": {
   "codemirror_mode": {
    "name": "ipython",
    "version": 3
   },
   "file_extension": ".py",
   "mimetype": "text/x-python",
   "name": "python",
   "nbconvert_exporter": "python",
   "pygments_lexer": "ipython3",
   "version": "3.9.7"
  }
 },
 "nbformat": 4,
 "nbformat_minor": 4
}
